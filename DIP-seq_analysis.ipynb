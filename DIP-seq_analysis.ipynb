{
 "cells": [
  {
   "cell_type": "markdown",
   "id": "b45175dc-4936-4640-b45b-38e7a3b5d240",
   "metadata": {
    "id": "b45175dc-4936-4640-b45b-38e7a3b5d240"
   },
   "source": [
    "# DIP-seq bioinformatics analysis of _Escherichia coli_"
   ]
  },
  {
   "cell_type": "markdown",
   "id": "74WIoRz_gRVJ",
   "metadata": {
    "id": "74WIoRz_gRVJ"
   },
   "source": [
    "Here we use raw reads **wt (wild type)** of _Escherichia coli_ K-12 strain. \\\n",
    "The list of input files:\n",
    "1. WT m6A/6mA Replicate 1 (R1),\n",
    "2. WT m6A/6mA Replicate 2 (R2),\n",
    "3. WT genomic DNA sequence / Control file."
   ]
  },
  {
   "cell_type": "markdown",
   "id": "9f449743-4e2b-4aa7-95b3-2fc927afc7d2",
   "metadata": {
    "id": "9f449743-4e2b-4aa7-95b3-2fc927afc7d2"
   },
   "source": [
    "## Quality control"
   ]
  },
  {
   "cell_type": "code",
   "execution_count": 7,
   "id": "878eacb8-d90f-43b5-9f3e-76ae0e6f5f0d",
   "metadata": {},
   "outputs": [],
   "source": [
    "# convert all .bz2 files to .gz format\n",
    "# it is needed for further analysis\n",
    "!cd /mnt/storage/lab12/k12 && for f in *.bz2; do bzcat \"$f\" | gzip -c >\"${f%.*}.gz\"; done"
   ]
  },
  {
   "cell_type": "code",
   "execution_count": 8,
   "id": "97d08ec8-0c84-4a7d-a721-4fe067355b86",
   "metadata": {},
   "outputs": [],
   "source": [
    "# prepare folder for fastqc reports\n",
    "!cd /mnt/storage/lab12/k12 && mkdir fastqc_outputs"
   ]
  },
  {
   "cell_type": "code",
   "execution_count": null,
   "id": "b11095fa-d52d-4bb0-b40e-3a3a3b2dc7ac",
   "metadata": {},
   "outputs": [],
   "source": [
    "# install fastqc via conda\n",
    "conda install bioconda::fastqc"
   ]
  },
  {
   "cell_type": "code",
   "execution_count": null,
   "id": "109a45e9-794b-446c-a72c-8bc594a22505",
   "metadata": {},
   "outputs": [],
   "source": [
    "# launch fastqc\n",
    "!fastqc /mnt/storage/lab12/k12/*.fastq.gz -o /mnt/storage/lab12/k12/fastqc_outputs"
   ]
  },
  {
   "cell_type": "markdown",
   "id": "2f5b3973-e1ee-4753-9c8c-e5c69e683839",
   "metadata": {},
   "source": [
    "**Fastqc html reports interpretation**\n",
    "\n",
    "_before trimming:_\n",
    "\n",
    "_WT subset:_\n",
    "\n",
    "wt_m6A_1: 3,503,830 reads, \\\n",
    "wt_m6A_2: 3,628,333  reads, \\\n",
    "wt_E_Coli (Control file): 1,938,062 reads.\n",
    "\n",
    "It seeems the num. of reads is enough (>=~1kk) for further analysis of ecoli.. \\\n",
    "proof: 'So even if you downsample your library to 1 million reads, it should still give you reliable results.' from: https://github.com/macs3-project/MACS/issues/353.\n",
    "\n",
    "Failure in the following sections:\n",
    "'Per sequence QC content' - ok (https://www.biostars.org/p/9540513/) \\\n",
    "'Per base sequence content' - it is ok for ChIP-seq analysis (https://www.biostars.org/p/9494902/)."
   ]
  },
  {
   "cell_type": "markdown",
   "id": "4d85169a-a43d-4742-8826-8abced93f115",
   "metadata": {
    "id": "4d85169a-a43d-4742-8826-8abced93f115"
   },
   "source": [
    "## Data cleaning\n",
    "i.e. reads trimming."
   ]
  },
  {
   "cell_type": "markdown",
   "id": "8f9ed618-8538-4e8d-9306-2e7af90559c4",
   "metadata": {
    "id": "8f9ed618-8538-4e8d-9306-2e7af90559c4"
   },
   "source": [
    "To remove low quality sequences we select the 2 most important parameters which are the minimum Phred score (1-30) and a minimum sequencing length.\n",
    "There are different views on these parameters. A good estimate is typically a Phred score of 20 (99% confidence) (by default) and a minimum of 50-70% of the sequence length (let's choose 50% of the sequence length, e.g., 0.5 x 60 = 30 bp).\n",
    "\n",
    "about Phred score: https://gatk.broadinstitute.org/hc/en-us/articles/360035531872-Phred-scaled-quality-scores.\n",
    "\n",
    "p.s. In this case, the data are appropriate for further analysis without any trimming and cleaning procedures. Nonetheless, we show an example how to trim contaminated data correctly according to the rules described above."
   ]
  },
  {
   "cell_type": "code",
   "execution_count": 14,
   "id": "ed7994d5-4d97-4eb1-b1d3-f3a2c8a1efab",
   "metadata": {
    "id": "ed7994d5-4d97-4eb1-b1d3-f3a2c8a1efab"
   },
   "outputs": [],
   "source": [
    "# prepare folder for trimmed files\n",
    "!mkdir /mnt/storage/lab12/k12/trimmed_files"
   ]
  },
  {
   "cell_type": "code",
   "execution_count": null,
   "id": "a42f30be-4ae0-4425-96f1-e189b7fd4acb",
   "metadata": {},
   "outputs": [],
   "source": [
    "# install Trim Galore! (used for data trimming)\n",
    "conda install bioconda::trim-galore"
   ]
  },
  {
   "cell_type": "code",
   "execution_count": null,
   "id": "c9eee57b-8312-4019-afbe-4682e2ffa34c",
   "metadata": {},
   "outputs": [],
   "source": [
    "# any raw input file \n",
    "!trim_galore \\\n",
    "{filename}.fastq.gz \\\n",
    "-o ./trimmed_files --fastqc \\\n",
    "--length 30 \\\n",
    "--quality 20\n",
    "\n",
    "# option --fastqc allows to create a new fastqc report for already trimmed file.\n",
    "# based on that, we may conclude is it appropriate for analysis or not."
   ]
  },
  {
   "cell_type": "markdown",
   "id": "0485eb53-ee5b-4766-b965-6354de654735",
   "metadata": {
    "id": "0485eb53-ee5b-4766-b965-6354de654735"
   },
   "source": [
    "## Reads mapping\n",
    "i.e. obtain the coordinates of each read on reference genome."
   ]
  },
  {
   "cell_type": "markdown",
   "id": "0f2085aa-771c-4185-951f-3d52b349fdcd",
   "metadata": {
    "id": "0f2085aa-771c-4185-951f-3d52b349fdcd"
   },
   "source": [
    "DIP-seq data are mapped to reference genome using bowtie2."
   ]
  },
  {
   "cell_type": "markdown",
   "id": "a3658858-ef09-47aa-8cbb-01f65c9041f9",
   "metadata": {
    "id": "a3658858-ef09-47aa-8cbb-01f65c9041f9"
   },
   "source": [
    "We use reference genome of _E.coli_ strain K12: \\\n",
    "it can be downloaded here https://www.ncbi.nlm.nih.gov/data-hub/genome/GCF_000005845.2/ and saved as 'ecoli-k12_strain.fna'."
   ]
  },
  {
   "cell_type": "code",
   "execution_count": 65,
   "id": "ec6c79e2-7b6a-469e-b10d-d081d01a648d",
   "metadata": {
    "id": "ec6c79e2-7b6a-469e-b10d-d081d01a648d",
    "outputId": "58039044-993f-4bad-86ca-7dcb41806d6f"
   },
   "outputs": [
    {
     "name": "stdout",
     "output_type": "stream",
     "text": [
      ">NC_000913.3 Escherichia coli str. K-12 substr. MG1655, complete genome\n",
      "AGCTTTTCATTCTGACTGCAACGGGCAATATGTCTCTGTGTGGATTAAAAAAAGAGTGTCTGATAGCAGCTTCTGAACTG\n",
      "GTTACCTGCCGTGAGTAAATTAAAATTTTATTGACTTAGGTCACTAAATACTTTAACCAATATAGGCATAGCGCACAGAC\n",
      "AGATAAAAATTACAGAGTACACAACATCCATGAAACGCATTAGCACCACCATTACCACCACCATCACCATTACCACAGGT\n",
      "AACGGTGCGGGCTGACGCGTACAGGAAACACAGAAAAAAGCCCGCACCTGACAGTGCGGGCTTTTTTTTTCGACCAAAGG\n",
      "TAACGAGGTAACAACCATGCGAGTGTTGAAGTTCGGCGGTACATCAGTGGCAAATGCAGAACGTTTTCTGCGTGTTGCCG\n",
      "ATATTCTGGAAAGCAATGCCAGGCAGGGGCAGGTGGCCACCGTCCTCTCTGCCCCCGCCAAAATCACCAACCACCTGGTG\n",
      "GCGATGATTGAAAAAACCATTAGCGGCCAGGATGCTTTACCCAATATCAGCGATGCCGAACGTATTTTTGCCGAACTTTT\n",
      "GACGGGACTCGCCGCCGCCCAGCCGGGGTTCCCGCTGGCGCAATTGAAAACTTTCGTCGATCAGGAATTTGCCCAAATAA\n",
      "AACATGTCCTGCATGGCATTAGTTTGTTGGGGCAGTGCCCGGATAGCATCAACGCTGCGCTGATTTGCCGTGGCGAGAAA\n",
      "cat: ошибка записи: Обрыв канала\n"
     ]
    }
   ],
   "source": [
    "# how ref genome looks like\n",
    "!cat ecoli-k12_strain.fna | head -n10"
   ]
  },
  {
   "cell_type": "code",
   "execution_count": null,
   "id": "e8b82341-3d0c-4c7b-b1b8-320135142dfc",
   "metadata": {},
   "outputs": [],
   "source": [
    "# install bowtie2 aligner\n",
    "conda install bioconda::bowtie2"
   ]
  },
  {
   "cell_type": "code",
   "execution_count": null,
   "id": "64b9eb1f-08ae-4eda-90e0-2edb3b2a76f3",
   "metadata": {
    "id": "64b9eb1f-08ae-4eda-90e0-2edb3b2a76f3"
   },
   "outputs": [],
   "source": [
    "# indexing reference genome\n",
    "# p.s. to perform bowtie2 alignment, it is required to index a genome.\n",
    "!bowtie2-build ecoli-k12_strain.fna ecoli-k12_strain"
   ]
  },
  {
   "cell_type": "code",
   "execution_count": 43,
   "id": "48e4456e-761a-480a-b63c-1e969bfc28ff",
   "metadata": {
    "id": "48e4456e-761a-480a-b63c-1e969bfc28ff"
   },
   "outputs": [],
   "source": [
    "## prepare folder for aligned reads\n",
    "!mkdir /mnt/storage/lab12/k12/aligned_reads"
   ]
  },
  {
   "cell_type": "code",
   "execution_count": null,
   "id": "ee858508-8fca-4175-abd9-bff202badf44",
   "metadata": {},
   "outputs": [],
   "source": [
    "# mapping reads with bowtie2\n",
    "\n",
    "# 1 - wt_m6A_1\n",
    "!bowtie2 -p 8 -q --local -x ecoli-k12_strain \\\n",
    "-U /mnt/storage/lab12/k12/wt_m6A_1.fastq.gz \\\n",
    "-S /mnt/storage/lab12/k12/aligned_reads/wt_m6A_1_aln_unsorted.sam"
   ]
  },
  {
   "cell_type": "code",
   "execution_count": null,
   "id": "e3592f5d-1ef6-4116-8d91-a3455072f697",
   "metadata": {},
   "outputs": [],
   "source": [
    "# 2 - wt_m6A_2\n",
    "!bowtie2 -p 8 -q --local -x ecoli-k12_strain \\\n",
    "-U /mnt/storage/lab12/k12/wt_m6A_2.fastq.gz \\\n",
    "-S /mnt/storage/lab12/k12/aligned_reads/wt_m6A_2_aln_unsorted.sam"
   ]
  },
  {
   "cell_type": "code",
   "execution_count": null,
   "id": "ad27724b-39e8-4cb8-b322-900a9687642f",
   "metadata": {},
   "outputs": [],
   "source": [
    "# 3 - wt_E_Coli (control file)\n",
    "!bowtie2 -p 8 -q --local -x ecoli-k12_strain \\\n",
    "-U /mnt/storage/lab12/k12/wt_E_Coli.fastq.gz \\\n",
    "-S /mnt/storage/lab12/k12/aligned_reads/wt_E_Coli_aln_unsorted.sam"
   ]
  },
  {
   "cell_type": "markdown",
   "id": "0dcb67ae-cf84-461e-9394-b35697cfb82a",
   "metadata": {},
   "source": [
    "p.s. an advice is here: it is better to perform a mapping procedure using any cluster if it is available. In this case, use .sh script (see more about entrypoint scripts) for multithreaded application support; this function allows you to make an aligning process faster."
   ]
  },
  {
   "cell_type": "markdown",
   "id": "8ea6d13e-4911-4a0f-b089-ef606619acbc",
   "metadata": {
    "id": "8ea6d13e-4911-4a0f-b089-ef606619acbc"
   },
   "source": [
    "## Reads filtering"
   ]
  },
  {
   "cell_type": "code",
   "execution_count": 1,
   "id": "ccfa42f6-5ba1-4576-bf28-97be230f14c2",
   "metadata": {
    "id": "ccfa42f6-5ba1-4576-bf28-97be230f14c2"
   },
   "outputs": [],
   "source": [
    "## prepare folder for filtered reads\n",
    "!mkdir /mnt/storage/lab12/k12/aligned_reads/filtered_reads"
   ]
  },
  {
   "cell_type": "markdown",
   "id": "9a59f755-465c-4a7b-8120-07d8137b88e7",
   "metadata": {
    "id": "ce38e3f2-48d6-4957-aa0d-5393b1d92534"
   },
   "source": [
    "We want to get uniquely mapped reads only. For this, we should do the following steps:\n",
    "1. Change file format from SAM to BAM,\n",
    "2. Sort BAM file by genomic coordinates,\n",
    "3. Filter uniquely mapping reads."
   ]
  },
  {
   "cell_type": "code",
   "execution_count": 3,
   "id": "b55b3012-0fe3-4e44-b200-7531fabf5f7c",
   "metadata": {
    "id": "b55b3012-0fe3-4e44-b200-7531fabf5f7c"
   },
   "outputs": [],
   "source": [
    "# change file format from SAM to BAM\n",
    "\n",
    "# 1 - wt_m6A_1\n",
    "!samtools view -h -S -b \\\n",
    "-o /mnt/storage/lab12/k12/aligned_reads/filtered_reads/wt_m6A_1_aln_unsorted.bam \\\n",
    "/mnt/storage/lab12/k12/aligned_reads/wt_m6A_1_aln_unsorted.sam"
   ]
  },
  {
   "cell_type": "code",
   "execution_count": null,
   "id": "e84b6a16-6293-4055-8e5a-418f4bd21ffb",
   "metadata": {},
   "outputs": [],
   "source": [
    "# 2 - wt_m6A_2\n",
    "!samtools view -h -S -b \\\n",
    "-o /mnt/storage/lab12/k12/aligned_reads/filtered_reads/wt_m6A_2_aln_unsorted.bam \\\n",
    "/mnt/storage/lab12/k12/aligned_reads/wt_m6A_2_aln_unsorted.sam"
   ]
  },
  {
   "cell_type": "code",
   "execution_count": 12,
   "id": "5387bf0d-f90a-4c84-a603-24a805cbba19",
   "metadata": {},
   "outputs": [],
   "source": [
    "# 3 - wt_E_Coli\n",
    "!samtools view -h -S -b \\\n",
    "-o /mnt/storage/lab12/k12/aligned_reads/filtered_reads/wt_E_Coli_aln_unsorted.bam \\\n",
    "/mnt/storage/lab12/k12/aligned_reads/wt_E_Coli_aln_unsorted.sam"
   ]
  },
  {
   "cell_type": "code",
   "execution_count": 21,
   "id": "fb60d172-9933-490c-8986-d2191023ec18",
   "metadata": {
    "id": "fb60d172-9933-490c-8986-d2191023ec18"
   },
   "outputs": [],
   "source": [
    "# sort BAM file by genomic coordinates\n",
    "\n",
    "# 1 - wt_m6A_1\n",
    "!samtools sort \\\n",
    "-o /mnt/storage/lab12/k12/aligned_reads/filtered_reads/wt_m6A_1_aln_sorted.bam \\\n",
    "/mnt/storage/lab12/k12/aligned_reads/filtered_reads/wt_m6A_1_aln_unsorted.bam"
   ]
  },
  {
   "cell_type": "code",
   "execution_count": null,
   "id": "ccc3e640-66fa-4595-86b6-f5b7d06d2593",
   "metadata": {},
   "outputs": [],
   "source": [
    "# 2 - wt_m6A_2\n",
    "!samtools sort \\\n",
    "-o /mnt/storage/lab12/k12/aligned_reads/filtered_reads/wt_m6A_2_aln_sorted.bam \\\n",
    "/mnt/storage/lab12/k12/aligned_reads/filtered_reads/wt_m6A_2_aln_unsorted.bam"
   ]
  },
  {
   "cell_type": "code",
   "execution_count": 30,
   "id": "0ea2b37c-5686-4c6d-a6ed-9ff22a3c404e",
   "metadata": {
    "id": "0ea2b37c-5686-4c6d-a6ed-9ff22a3c404e"
   },
   "outputs": [],
   "source": [
    "# 3 - wt_E_Coli\n",
    "!samtools sort \\\n",
    "-o /mnt/storage/lab12/k12/aligned_reads/filtered_reads/wt_E_Coli_aln_sorted.bam \\\n",
    "/mnt/storage/lab12/k12/aligned_reads/filtered_reads/wt_E_Coli_aln_unsorted.bam"
   ]
  },
  {
   "cell_type": "code",
   "execution_count": 40,
   "id": "491f1623-2113-47b6-9c7d-32b58006dfd1",
   "metadata": {
    "id": "491f1623-2113-47b6-9c7d-32b58006dfd1"
   },
   "outputs": [],
   "source": [
    "# filter uniquely mapping reads\n",
    "\n",
    "# 1 - wt_m6A_1\n",
    "!cd /mnt/storage/lab12/k12/aligned_reads/filtered_reads/ && samtools view -bq 1 \\\n",
    "wt_m6A_1_aln_sorted.bam > wt_m6A_1_aln.bam"
   ]
  },
  {
   "cell_type": "code",
   "execution_count": null,
   "id": "abaf4bbb-6978-4f15-8e94-41468a9b39a9",
   "metadata": {},
   "outputs": [],
   "source": [
    "# 2 - wt_m6A_2\n",
    "!cd /mnt/storage/lab12/k12/aligned_reads/filtered_reads/ && samtools view -bq 1 \\\n",
    "wt_m6A_2_aln_sorted.bam > wt_m6A_2_aln.bam"
   ]
  },
  {
   "cell_type": "code",
   "execution_count": 49,
   "id": "1e346ab7-ea31-4a37-8243-4ed1ddeda11a",
   "metadata": {
    "id": "1e346ab7-ea31-4a37-8243-4ed1ddeda11a"
   },
   "outputs": [],
   "source": [
    "# 3 - wt_E_Coli\n",
    "!cd /mnt/storage/lab12/k12/aligned_reads/filtered_reads/ && samtools view -bq 1 \\\n",
    "wt_E_Coli_aln_sorted.bam > wt_E_Coli_aln.bam"
   ]
  },
  {
   "cell_type": "code",
   "execution_count": 61,
   "id": "5ddaf76f-ba01-4230-a58d-fb230e613360",
   "metadata": {
    "id": "5ddaf76f-ba01-4230-a58d-fb230e613360"
   },
   "outputs": [],
   "source": [
    "# create indices for all the bam files\n",
    "\n",
    "# 1 - wt_m6A_1\n",
    "!cd /mnt/storage/lab12/k12/aligned_reads/filtered_reads/ && samtools index \\\n",
    "wt_m6A_1_aln.bam"
   ]
  },
  {
   "cell_type": "code",
   "execution_count": null,
   "id": "11789d05-5917-4320-aafd-62fd7cd3ce42",
   "metadata": {},
   "outputs": [],
   "source": [
    "# 2 - wt_m6A_2\n",
    "!cd /mnt/storage/lab12/k12/aligned_reads/filtered_reads/ && samtools index \\\n",
    "wt_m6A_2_aln.bam"
   ]
  },
  {
   "cell_type": "code",
   "execution_count": 70,
   "id": "0c35c559-5c11-448c-bcd6-255216aa61fc",
   "metadata": {
    "id": "0c35c559-5c11-448c-bcd6-255216aa61fc"
   },
   "outputs": [],
   "source": [
    "# 3 - wt_E_Coli\n",
    "!cd /mnt/storage/lab12/k12/aligned_reads/filtered_reads/ && samtools index \\\n",
    "wt_E_Coli_aln.bam"
   ]
  },
  {
   "cell_type": "markdown",
   "id": "75eb26d5-97cc-45b6-9892-fbbacb0bcfc3",
   "metadata": {
    "id": "75eb26d5-97cc-45b6-9892-fbbacb0bcfc3"
   },
   "source": [
    "## Peak calling"
   ]
  },
  {
   "cell_type": "markdown",
   "id": "702f422a-36d7-4763-b0d3-14f6a3bb9551",
   "metadata": {
    "id": "702f422a-36d7-4763-b0d3-14f6a3bb9551"
   },
   "source": [
    "**Peak calling with MACS2**"
   ]
  },
  {
   "cell_type": "markdown",
   "id": "f58949b5-d720-4f30-815b-30dc927d09ab",
   "metadata": {
    "id": "f58949b5-d720-4f30-815b-30dc927d09ab"
   },
   "source": [
    "Now that the alignment files contain only uniquely mapping reads, we are ready to perform peak calling.\n",
    "\n",
    "Peak calling as the next step in the workflow is a computational method used to identify areas in the genome that\n",
    "have been enriched with aligned reads as a consequence of performing a DIP-sequencing experiment.\n",
    "\n",
    "MACS2 is one of the most commonly used peak finders.\n",
    "\n",
    "p.s. MACS2 allows us to find the two types of peaks: broad and narrow. Broad are often associated with histone modifications in ChIP-seq experiments, while narrow ones are with transcription factors (TFs). Here we describe only a broad type of peaks parameter."
   ]
  },
  {
   "cell_type": "code",
   "execution_count": 84,
   "id": "f95d9e1a-b9dd-4154-abb8-9ed5ebd4e1a6",
   "metadata": {
    "id": "f95d9e1a-b9dd-4154-abb8-9ed5ebd4e1a6"
   },
   "outputs": [],
   "source": [
    "# prepare folder for outputs generated from MACS2\n",
    "!mkdir /mnt/storage/lab12/k12/aligned_reads/filtered_reads/macs2_broad_peaks"
   ]
  },
  {
   "cell_type": "code",
   "execution_count": null,
   "id": "6c0de523-13c3-45e0-be4e-da9ce661e951",
   "metadata": {},
   "outputs": [],
   "source": [
    "# install MACS2\n",
    "conda install bioconda::macs2"
   ]
  },
  {
   "cell_type": "code",
   "execution_count": null,
   "id": "fd061009-c626-424e-90b7-6f56fb630118",
   "metadata": {},
   "outputs": [],
   "source": [
    "# launch macs2\n",
    "# wt_m6A_1 - DIP-seq file (wt_E_Coli - control file) / broad peaks calling.\n",
    "!cd /mnt/storage/lab12/k12/aligned_reads/filtered_reads/ && \\\n",
    "macs2 callpeak -t wt_m6A_1_aln.bam \\\n",
    "-c wt_E_Coli_aln.bam \\\n",
    "--format BAM --gsize 4641652 --name wt_m6A_1__wt_E_Coli --broad \\\n",
    "--nomodel --extsize 200 \\\n",
    "--outdir ./macs2_broad_peaks"
   ]
  },
  {
   "cell_type": "code",
   "execution_count": 123,
   "id": "525c96b5-7643-4521-bd60-61a5d500688d",
   "metadata": {},
   "outputs": [
    {
     "name": "stdout",
     "output_type": "stream",
     "text": [
      "1272 /mnt/storage/lab12/k12/merged_files/aligned_reads/filtered_reads/macs2_broad_peaks/wt_m6A_1__wt_E_Coli_peaks.broadPeak\n"
     ]
    }
   ],
   "source": [
    "!wc -l \\\n",
    "/mnt/storage/lab12/k12/aligned_reads/filtered_reads/macs2_broad_peaks/wt_m6A_1__wt_E_Coli_peaks.broadPeak"
   ]
  },
  {
   "cell_type": "markdown",
   "id": "1dedc1a1-4a78-4bc1-9772-7fe6d77898c4",
   "metadata": {},
   "source": [
    "p.s. --gsize Effective genome size: this is the size of the genome considered 'usable' for peak calling. This value is given by the MACS developpers on their website. It is smaller than the complete genome because many regions are excluded (telomeres, highly repeated regions...). The default value is for human (2700000000.0), so we need to change it. As the value for _E. coli_ is not provided, we will take the complete genome size 4,641,652 bp.\n",
    "\n",
    "--nomodel --extsize 200 were used to eliminate the lack of results. --extsize 200 was chosen according to the _E.coli_ article: https://www.microbiologyresearch.org/content/journal/mgen/10.1099/mgen.0.000833?crawler=true."
   ]
  },
  {
   "cell_type": "code",
   "execution_count": null,
   "id": "f030d7a3-9c82-4bbb-94b8-c481b5adef28",
   "metadata": {},
   "outputs": [],
   "source": [
    "# wt_m6A_2 - DIP-seq file (wt_E_Coli - control file) / broad peaks calling.\n",
    "!cd /mnt/storage/lab12/k12/aligned_reads/filtered_reads/ && \\\n",
    "macs2 callpeak -t wt_m6A_2_aln.bam \\\n",
    "-c wt_E_Coli_aln.bam \\\n",
    "--format BAM --gsize 4641652 --name wt_m6A_2__wt_E_Coli --broad \\\n",
    "--nomodel --extsize 200 \\\n",
    "--outdir ./macs2_broad_peaks"
   ]
  },
  {
   "cell_type": "code",
   "execution_count": 125,
   "id": "eba48018-fc11-4771-aab3-2fa246181be4",
   "metadata": {},
   "outputs": [
    {
     "name": "stdout",
     "output_type": "stream",
     "text": [
      "1266 /mnt/storage/lab12/k12/merged_files/aligned_reads/filtered_reads/macs2_broad_peaks/wt_m6A_2__wt_E_Coli_peaks.broadPeak\n"
     ]
    }
   ],
   "source": [
    "!wc -l \\\n",
    "/mnt/storage/lab12/k12/aligned_reads/filtered_reads/macs2_broad_peaks/wt_m6A_2__wt_E_Coli_peaks.broadPeak"
   ]
  },
  {
   "cell_type": "markdown",
   "id": "d5f7e8cc-6c12-4613-915e-ce5882abf5de",
   "metadata": {},
   "source": [
    "**Consensus peaks identification**"
   ]
  },
  {
   "cell_type": "code",
   "execution_count": null,
   "id": "91a94f9b-a05e-44f8-83d2-17e7d8ad29d6",
   "metadata": {},
   "outputs": [],
   "source": [
    "# install deeptools\n",
    "conda install bioconda::deeptools"
   ]
  },
  {
   "cell_type": "code",
   "execution_count": 144,
   "id": "b5845c7d-539d-45a7-8647-c37768c044b4",
   "metadata": {},
   "outputs": [],
   "source": [
    "!bedtools intersect \\\n",
    "-a /mnt/storage/lab12/k12/aligned_reads/filtered_reads/macs2_broad_peaks/wt_m6A_1__wt_E_Coli_peaks.broadPeak \\\n",
    "-b /mnt/storage/lab12/k12/aligned_reads/filtered_reads/macs2_broad_peaks/wt_m6A_2__wt_E_Coli_peaks.broadPeak \\\n",
    "> /mnt/storage/lab12/k12/aligned_reads/filtered_reads/macs2_broad_peaks/wt_m6A.bed"
   ]
  },
  {
   "cell_type": "code",
   "execution_count": 6,
   "id": "05237f66-9384-4363-b8e3-d21e19780d63",
   "metadata": {},
   "outputs": [
    {
     "name": "stdout",
     "output_type": "stream",
     "text": [
      "1182 /mnt/storage/lab12/k12/merged_files/aligned_reads/filtered_reads/macs2_broad_peaks/wt_m6A.bed\n"
     ]
    }
   ],
   "source": [
    "!wc -l \\\n",
    "/mnt/storage/lab12/k12/merged_files/aligned_reads/filtered_reads/macs2_broad_peaks/wt_m6A.bed"
   ]
  },
  {
   "cell_type": "markdown",
   "id": "8a0aac9f-2fce-4c53-b66c-d047eba67749",
   "metadata": {},
   "source": [
    "## Visualisation"
   ]
  },
  {
   "cell_type": "markdown",
   "id": "f2a92b6d-9374-49b7-a5b9-bd089c9f32ca",
   "metadata": {},
   "source": [
    "**Heatmap and profile plot showing distribution of density reads across either genomic regions containing peaks (1 way) or genome (2 way)**"
   ]
  },
  {
   "cell_type": "code",
   "execution_count": null,
   "id": "d80caa39-8343-42e4-bcf6-dd1180d61747",
   "metadata": {},
   "outputs": [],
   "source": [
    "# Bigwig files creation (deepTools package)\n",
    "!bamCoverage \\\n",
    "--bam wt_E_Coli_aln.bam \\\n",
    "--outFileName wt_E_Coli_aln.bw \\\n",
    "--outFileFormat bigwig \\\n",
    "--effectiveGenomeSize 4641652 \\\n",
    "--normalizeUsing RPGC"
   ]
  },
  {
   "cell_type": "code",
   "execution_count": null,
   "id": "6fdb8ca2-c1bf-4f24-9bed-973cdeb7861c",
   "metadata": {},
   "outputs": [],
   "source": [
    "!bamCoverage \\\n",
    "--bam wt_m6A_1_aln.bam \\\n",
    "--outFileName wt_m6A_1_aln.bw \\\n",
    "--outFileFormat bigwig \\\n",
    "--effectiveGenomeSize 4641652 \\\n",
    "--normalizeUsing RPGC"
   ]
  },
  {
   "cell_type": "code",
   "execution_count": null,
   "id": "4fd09993-28ce-47a3-bf42-dd94437d5554",
   "metadata": {},
   "outputs": [],
   "source": [
    "!bamCoverage \\\n",
    "--bam wt_m6A_2_aln.bam \\\n",
    "--outFileName wt_m6A_2_aln.bw \\\n",
    "--outFileFormat bigwig \\\n",
    "--effectiveGenomeSize 4641652 \\\n",
    "--normalizeUsing RPGC"
   ]
  },
  {
   "cell_type": "code",
   "execution_count": null,
   "id": "045d4627-4a77-4f6d-b19f-9db7634f2830",
   "metadata": {},
   "outputs": [],
   "source": [
    "# Matrix file creation (1 way)\n",
    "# WT m6A R1, WT m6A R2 reads vs\n",
    "# methyladenine consensus peaks\n",
    "# (deepTools package)\n",
    "!computeMatrix reference-point \\\n",
    "--referencePoint center \\\n",
    "-S wt_m6A_1_aln.bw wt_m6A_2_aln.bw \\\n",
    "-R wt_m6A.bed \\\n",
    "--beforeRegionStartLength 3000 \\\n",
    "--afterRegionStartLength 3000 \\\n",
    "-o peaks_matrix_centering.mat.gz -p 8"
   ]
  },
  {
   "cell_type": "code",
   "execution_count": null,
   "id": "1b92dbbc-854e-4569-a21a-62dabf0600d7",
   "metadata": {},
   "outputs": [],
   "source": [
    "# Heatmaps creation\n",
    "!plotHeatmap -m peaks_matrix_centering.mat.gz \\\n",
    "-out peaks_matrix_centering.png"
   ]
  },
  {
   "cell_type": "code",
   "execution_count": null,
   "id": "d3b49d93-b6bf-4c87-9baf-e4bb5869d5e5",
   "metadata": {},
   "outputs": [],
   "source": [
    "# Profile plots creation\n",
    "!plotProfile -m peaks_matrix_centering.mat.gz \\\n",
    "-out peaks_matrix_centering_profile.png"
   ]
  },
  {
   "cell_type": "code",
   "execution_count": null,
   "id": "0a446209-2ae5-434a-a0e8-168585a9a015",
   "metadata": {},
   "outputs": [],
   "source": [
    "# convert gtf to bed\n",
    "# gtf is retrieved from: \n",
    "# https://ftp.ncbi.nlm.nih.gov/genomes/all/GCF/000/005/845/GCF_000005845.2_ASM584v2/\n",
    "# and saved as 'ecoli_k12.gtf'\n",
    "!sortBed -i ecoli_k12.gtf | gff2bed > ecoli_k12.bed\n",
    "\n",
    "# it is needed for scale-regions heatmap and profile plots formation"
   ]
  },
  {
   "cell_type": "code",
   "execution_count": null,
   "id": "60d0d0ec-6394-44c9-831d-a9f88c0b0884",
   "metadata": {},
   "outputs": [],
   "source": [
    "# Matrix file creation (2 way)\n",
    "# WT m6A R1, WT m6A R2 reads vs\n",
    "# gene regions\n",
    "# (deepTools package)\n",
    "!computeMatrix scale-regions \\\n",
    "-S wt_m6A_1_aln.bw wt_m6A_2_aln.bw \\\n",
    "-R ecoli_k12.bed \\\n",
    "--beforeRegionStartLength 3000 \\\n",
    "--regionBodyLength 5000 \\\n",
    "--afterRegionStartLength 3000 \\\n",
    "-o peaks_matrix_genes.mat.gz -p 8"
   ]
  },
  {
   "cell_type": "code",
   "execution_count": null,
   "id": "1915141e-af1b-4016-95d0-2c34248990e2",
   "metadata": {},
   "outputs": [],
   "source": [
    "!plotHeatmap -m peaks_matrix_genes.mat.gz \\\n",
    "-out peaks_matrix_genes.png"
   ]
  },
  {
   "cell_type": "code",
   "execution_count": null,
   "id": "5a8ab9f1-f79e-49b4-982d-b350617eab47",
   "metadata": {},
   "outputs": [],
   "source": [
    "!plotProfile -m peaks_matrix_genes.mat.gz \\\n",
    "-out peaks_matrix_genes_profile.png"
   ]
  },
  {
   "cell_type": "code",
   "execution_count": null,
   "id": "b449848a-0dd0-468b-af13-02aeb9b6ee94",
   "metadata": {},
   "outputs": [],
   "source": [
    "//"
   ]
  },
  {
   "cell_type": "markdown",
   "id": "f1d7c4bc-cef1-4a6f-ba87-135311a0880b",
   "metadata": {},
   "source": [
    "**Venn diagrams**"
   ]
  },
  {
   "cell_type": "markdown",
   "id": "bb53028f-c62e-444c-ba86-9fe20e9af4d3",
   "metadata": {},
   "source": [
    "Venn diagrams illustrate the overlappings between dif. consensus peaks."
   ]
  },
  {
   "cell_type": "code",
   "execution_count": null,
   "id": "65495215-b5b9-4808-8863-29122a281ec9",
   "metadata": {},
   "outputs": [],
   "source": [
    "# install package\n",
    "!pip install matplotlib-venn"
   ]
  },
  {
   "cell_type": "code",
   "execution_count": 1,
   "id": "85f8e4f3-006e-4198-8d9f-451290b64350",
   "metadata": {},
   "outputs": [],
   "source": [
    "# import libraries\n",
    "\n",
    "from matplotlib_venn import venn2, venn2_circles, venn2_unweighted\n",
    "from matplotlib_venn import venn3, venn3_circles\n",
    "from matplotlib import pyplot as plt\n",
    "%matplotlib inline \n",
    "# will create plots and store them within the notebook"
   ]
  },
  {
   "cell_type": "markdown",
   "id": "93989424-35e8-47ee-95a3-3a7c1a047835",
   "metadata": {},
   "source": [
    "_Broad peaks (WT m6A/6mA and S9.6 peaks)_"
   ]
  },
  {
   "cell_type": "code",
   "execution_count": 3,
   "id": "a0fabce5-c02a-4c08-9dbf-6e379e9d3674",
   "metadata": {},
   "outputs": [
    {
     "name": "stdout",
     "output_type": "stream",
     "text": [
      "1182 /mnt/storage/lab12/k12/merged_files/aligned_reads/filtered_reads/macs2_broad_peaks/wt_m6A.bed\n"
     ]
    }
   ],
   "source": [
    "!wc -l /mnt/storage/lab12/k12/merged_files/aligned_reads/filtered_reads/macs2_broad_peaks/wt_m6A.bed \n",
    "# m6A/6mA"
   ]
  },
  {
   "cell_type": "code",
   "execution_count": 5,
   "id": "d31fc353-0bad-4ae6-a6c2-f8e90033cc29",
   "metadata": {},
   "outputs": [
    {
     "name": "stdout",
     "output_type": "stream",
     "text": [
      "848 /mnt/storage/lab12/k12/merged_files/aligned_reads/filtered_reads/macs2_broad_peaks/wt_S96.bed\n"
     ]
    }
   ],
   "source": [
    "!wc -l /mnt/storage/lab12/k12/merged_files/aligned_reads/filtered_reads/macs2_broad_peaks/wt_S96.bed\n",
    "# S9.6"
   ]
  },
  {
   "cell_type": "code",
   "execution_count": 6,
   "id": "d852bedc-3130-489d-8a72-df27bfe4697a",
   "metadata": {},
   "outputs": [],
   "source": [
    "!mkdir \\\n",
    "/mnt/storage/lab12/k12/merged_files/aligned_reads/filtered_reads/macs2_broad_peaks/intersections"
   ]
  },
  {
   "cell_type": "code",
   "execution_count": 7,
   "id": "bd25f7d5-8944-4a5b-80c8-4395377eb274",
   "metadata": {},
   "outputs": [],
   "source": [
    "!bedtools intersect \\\n",
    "-a /mnt/storage/lab12/k12/merged_files/aligned_reads/filtered_reads/macs2_broad_peaks/wt_m6A.bed \\\n",
    "-b /mnt/storage/lab12/k12/merged_files/aligned_reads/filtered_reads/macs2_broad_peaks/wt_S96.bed > \\\n",
    "/mnt/storage/lab12/k12/merged_files/aligned_reads/filtered_reads/macs2_broad_peaks/intersections/wt_m6A__wt_S96_intersections.bed"
   ]
  },
  {
   "cell_type": "code",
   "execution_count": 8,
   "id": "999fc525-b598-4566-9d13-1b009833ab84",
   "metadata": {},
   "outputs": [
    {
     "name": "stdout",
     "output_type": "stream",
     "text": [
      "447 /mnt/storage/lab12/k12/merged_files/aligned_reads/filtered_reads/macs2_broad_peaks/intersections/wt_m6A__wt_S96_intersections.bed\n"
     ]
    }
   ],
   "source": [
    "!wc -l \\\n",
    "/mnt/storage/lab12/k12/merged_files/aligned_reads/filtered_reads/macs2_broad_peaks/intersections/wt_m6A__wt_S96_intersections.bed"
   ]
  },
  {
   "cell_type": "code",
   "execution_count": 9,
   "id": "b7ff58d2-e140-4efb-9bb7-57d49fa97fde",
   "metadata": {},
   "outputs": [
    {
     "data": {
      "text/plain": [
       "735"
      ]
     },
     "execution_count": 9,
     "metadata": {},
     "output_type": "execute_result"
    }
   ],
   "source": [
    "1182 - 447"
   ]
  },
  {
   "cell_type": "code",
   "execution_count": 10,
   "id": "6ce9f98a-9377-445b-96cd-53075bed7055",
   "metadata": {},
   "outputs": [
    {
     "data": {
      "text/plain": [
       "401"
      ]
     },
     "execution_count": 10,
     "metadata": {},
     "output_type": "execute_result"
    }
   ],
   "source": [
    "848 - 447"
   ]
  },
  {
   "cell_type": "code",
   "execution_count": 3,
   "id": "13d29b64-d3e6-422b-94fa-c239fa339244",
   "metadata": {},
   "outputs": [
    {
     "data": {
      "image/png": "[encoded data removed]",
      "text/plain": [
       "<Figure size 700x700 with 1 Axes>"
      ]
     },
     "metadata": {},
     "output_type": "display_data"
    }
   ],
   "source": [
    "plt.rcParams[\"figure.figsize\"] = [7,7]\n",
    "venn2(subsets = (735, 401, 447), set_colors = (\"red\", \"green\"),\n",
    "     set_labels = (\"WT m6A\", \"WT S9.6\"))\n",
    "plt.show()"
   ]
  }
 ],
 "metadata": {
  "colab": {
   "provenance": []
  },
  "kernelspec": {
   "display_name": "Python 3 (ipykernel)",
   "language": "python",
   "name": "python3"
  },
  "language_info": {
   "codemirror_mode": {
    "name": "ipython",
    "version": 3
   },
   "file_extension": ".py",
   "mimetype": "text/x-python",
   "name": "python",
   "nbconvert_exporter": "python",
   "pygments_lexer": "ipython3",
   "version": "3.11.8"
  }
 },
 "nbformat": 4,
 "nbformat_minor": 5
}
